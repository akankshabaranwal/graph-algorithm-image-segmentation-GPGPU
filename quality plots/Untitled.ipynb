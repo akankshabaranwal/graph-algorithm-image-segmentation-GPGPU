{
 "cells": [
  {
   "cell_type": "code",
   "execution_count": 10,
   "metadata": {},
   "outputs": [],
   "source": [
    "# Pandas for managing datasets\n",
    "import pandas as pd\n",
    "\n",
    "# Matplotlib for additional customization\n",
    "import matplotlib\n",
    "from matplotlib import pyplot as plt\n",
    "%matplotlib inline\n",
    "\n",
    "# Seaborn for plotting and styling\n",
    "import seaborn as sns\n",
    "\n",
    "# File path operations etc\n",
    "import glob\n",
    "\n",
    "# Regexes\n",
    "import re\n",
    "\n",
    "import math"
   ]
  },
  {
   "cell_type": "code",
   "execution_count": 14,
   "metadata": {},
   "outputs": [],
   "source": [
    "def add_data(filename, algo_name):\n",
    "     # Read csv and add number of pixels\n",
    "    df = pd.read_csv(filename)\n",
    "    df['algorithm'] = algo_name\n",
    "    df = df.drop(columns=['output', 'ground_truth'])\n",
    "    \n",
    "    return df"
   ]
  },
  {
   "cell_type": "code",
   "execution_count": 16,
   "metadata": {},
   "outputs": [
    {
     "name": "stdout",
     "output_type": "stream",
     "text": [
      "     out_N  gt_N  asa_score  ue_score                     algorithm\n",
      "0       27     6   0.912753  0.174494                       Fastmst\n",
      "1       27    11   0.925532  0.148937                       Fastmst\n",
      "2       27    10   0.880402  0.239195                       Fastmst\n",
      "3       27    10   0.905085  0.189830                       Fastmst\n",
      "4       27    13   0.894165  0.209927                       Fastmst\n",
      "..     ...   ...        ...       ...                           ...\n",
      "331     45     9   0.961594  0.075032  Superpixel structured forest\n",
      "332     45     2   0.983271  0.033458  Superpixel structured forest\n",
      "333     45     9   0.960790  0.078419  Superpixel structured forest\n",
      "334     45    10   0.978122  0.043756  Superpixel structured forest\n",
      "335     45     8   0.972656  0.054689  Superpixel structured forest\n",
      "\n",
      "[336 rows x 5 columns]\n"
     ]
    }
   ],
   "source": [
    "orig_path = \"./bench_results/fastmst-5-orig.csv\"\n",
    "superpixel_sobel_path = \"./bench_results/fastmst-5-sobel.csv\"\n",
    "superpixel_forest_path = \"./bench_results/fastmst-5-forest.csv\"\n",
    "\n",
    "partial_list = []\n",
    "\n",
    "partial_list.append(add_data(orig_path, 'Fastmst'))\n",
    "partial_list.append(add_data(superpixel_sobel_path, 'Superpixel sobel'))\n",
    "partial_list.append(add_data(superpixel_forest_path, 'Superpixel structured forest'))\n",
    "\n",
    "data_frame = pd.concat(partial_list, axis=0, ignore_index=True)\n",
    "#partial_frame.rename(columns=lambda x: x.strip(), inplace=True)\n",
    "\n",
    "\n",
    "print(data_frame)"
   ]
  },
  {
   "cell_type": "code",
   "execution_count": 17,
   "metadata": {},
   "outputs": [
    {
     "data": {
      "text/plain": [
       "<AxesSubplot:xlabel='algorithm', ylabel='asa_score'>"
      ]
     },
     "execution_count": 17,
     "metadata": {},
     "output_type": "execute_result"
    },
    {
     "data": {
      "image/png": "[encoded data removed]",
      "text/plain": [
       "<Figure size 432x288 with 1 Axes>"
      ]
     },
     "metadata": {
      "needs_background": "light"
     },
     "output_type": "display_data"
    }
   ],
   "source": [
    "sns.boxplot(x=\"algorithm\", y=\"asa_score\", data=data_frame)"
   ]
  },
  {
   "cell_type": "code",
   "execution_count": 18,
   "metadata": {},
   "outputs": [
    {
     "data": {
      "text/plain": [
       "<AxesSubplot:xlabel='algorithm', ylabel='ue_score'>"
      ]
     },
     "execution_count": 18,
     "metadata": {},
     "output_type": "execute_result"
    },
    {
     "data": {
      "image/png": "[encoded data removed]",
      "text/plain": [
       "<Figure size 432x288 with 1 Axes>"
      ]
     },
     "metadata": {
      "needs_background": "light"
     },
     "output_type": "display_data"
    }
   ],
   "source": [
    "sns.boxplot(x=\"algorithm\", y=\"ue_score\", data=data_frame)"
   ]
  },
  {
   "cell_type": "code",
   "execution_count": null,
   "metadata": {},
   "outputs": [],
   "source": []
  },
  {
   "cell_type": "code",
   "execution_count": null,
   "metadata": {},
   "outputs": [],
   "source": []
  }
 ],
 "metadata": {
  "kernelspec": {
   "display_name": "Python 3",
   "language": "python",
   "name": "python3"
  },
  "language_info": {
   "codemirror_mode": {
    "name": "ipython",
    "version": 3
   },
   "file_extension": ".py",
   "mimetype": "text/x-python",
   "name": "python",
   "nbconvert_exporter": "python",
   "pygments_lexer": "ipython3",
   "version": "3.7.9"
  }
 },
 "nbformat": 4,
 "nbformat_minor": 4
}
